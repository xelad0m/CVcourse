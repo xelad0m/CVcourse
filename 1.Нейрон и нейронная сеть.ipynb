{
 "cells": [
  {
   "cell_type": "markdown",
   "metadata": {},
   "source": [
    "<!-- vscode-jupyter-toc -->\n",
    "<!-- THIS CELL WILL BE REPLACED ON TOC UPDATE. DO NOT WRITE YOUR TEXT IN THIS CELL -->\n",
    "<a id='toc0_'></a>**Содержание**    \n",
    "- [Матмодель нейрона](#toc1_)    \n",
    "  - [Теоретические задачи](#toc1_1_)    \n",
    "- [Булевы операции в виде нейронов](#toc2_)    \n",
    "    - [Оператор НЕ](#toc2_1_1_)    \n",
    "    - [Оператор И](#toc2_1_2_)    \n",
    "    - [Оператор ИЛИ](#toc2_1_3_)    \n",
    "    - [Оператор искл.ИЛИ (XOR)](#toc2_1_4_)    \n",
    "- [От нейрона к нейронной сети](#toc3_)    \n",
    "    - [Сеть нейронов с линейной активацией](#toc3_1_1_)    \n",
    "\n",
    "<!-- vscode-jupyter-toc-config\n",
    "\tnumbering=false\n",
    "\tanchor=true\n",
    "\tminLevel=1\n",
    "\tmaxLevel=6\n",
    "\t/vscode-jupyter-toc-config -->\n",
    "<!-- /vscode-jupyter-toc -->"
   ]
  },
  {
   "cell_type": "markdown",
   "metadata": {},
   "source": [
    "# <a id='toc1_'></a>[Матмодель нейрона](#toc0_)\n",
    "\n",
    "**Нейрон** - клетка с некоторым количеством синапсов (точки входа сигналов от других нейронов) и одним аксоном (точка выхода сигнала данного нейрона). В биологии это далеко не единственная конфигурация клетки нейрона.\n",
    "\n",
    "$$y = f(z) = f(w_1 x_1 + ... + w_n x_n + b) = f(\\sum_{i=1}^n w_i x_i + b) = f(< \\vec w, \\vec x> + b)$$\n",
    "\n",
    "$x_i$ - значения входных сигналов\n",
    "\n",
    "$y$ - значение выходного сигнала данного нейрона\n",
    "\n",
    "$z$ - суммарный выходной потенциал (?)\n",
    "\n",
    "$f(.)$ - функция активации, свойство нейрона по возбуждению выходного сигнала в зависимости от суммарного выходного потенциала (?)\n",
    "\n",
    "$w_i$ - веса нейрона, \"сила\" связей с другими нейронами, \"сила синапсов\"\n",
    "\n",
    "$b$ - смещение, сколько сам нейрон добавляет к суммарному входному сигналу\n",
    "\n",
    "**Пороговая функция активации (step)**:\n",
    "\n",
    "$$f(z) = \\begin{cases} \n",
    "0, & z \\leq 0 \\\\\n",
    "1, & z > 0\n",
    "\\end{cases}$$\n",
    "\n",
    "- есть разрыв, не диффиренцируемая в этой точке\n",
    "\n",
    "**Разделяющая поверхность** - совокупность возможных значений аргумента $z = 0$ при которых происходит смена значения функции активации. \n",
    "- Геометрическое место точек, где функция активации меняет свое значение (в любой $\\epsilon$-окрестности любой из таких точек находятся два различных значения функции активации)\n",
    "- Разделяющая поверхность является подмножеством пространства векторов $\\vec x$ (линейной комбинацией) \n",
    "\n",
    "\n",
    "Для одного нейрона - это гиперплоскость $< \\vec w, \\vec x> + b = 0$. Эта гиперплоскость ортогональна вектору весов $\\vec w$, и с той ее стороны, куда вектор весов направлен, значение функции ативации $=1$.\n",
    "\n",
    "\n",
    "**Сигмоидная функция активации**\n",
    "\n",
    "$$\\sigma(x) = \\frac{1}{1 + e^{-x}}$$\n",
    "\n",
    "$$\\lim_{x \\rightarrow \\infin} \\sigma(x) = 1 \\\\\n",
    "\\lim_{x \\rightarrow -\\infin} \\sigma(x) = 0 \\\\\n",
    "\\sigma(0) = 0.5$$\n",
    "\n",
    "Можно добавить параметр (температура)\n",
    "\n",
    "$$\\sigma(x, T) = \\frac{1}{1 + e^{-x/T}}$$\n",
    "\n",
    "- при $T \\rightarrow 0$ сигмоида стремится к пороговой функции"
   ]
  },
  {
   "cell_type": "markdown",
   "metadata": {},
   "source": [
    "## <a id='toc1_1_'></a>[Теоретические задачи](#toc0_)"
   ]
  },
  {
   "cell_type": "markdown",
   "metadata": {},
   "source": [
    "Чему равна производная сигмоидной функции активации?"
   ]
  },
  {
   "cell_type": "code",
   "execution_count": 17,
   "metadata": {},
   "outputs": [
    {
     "data": {
      "text/latex": [
       "$\\displaystyle \\operatorname{Set}\\left(\\frac{1}{1 + e^{- x}}, \\mathtt{\\text{->}}, \\frac{e^{- x}}{\\left(1 + e^{- x}\\right)^{2}}\\right)$"
      ],
      "text/plain": [
       "Set(1/(1 + exp(-x)), ->, exp(-x)/(1 + exp(-x))**2)"
      ]
     },
     "execution_count": 17,
     "metadata": {},
     "output_type": "execute_result"
    }
   ],
   "source": [
    "import sympy as sp\n",
    "\n",
    "x = sp.Symbol(\"x\")\n",
    "\n",
    "sig = 1 / (1 + sp.exp(-x))\n",
    "\n",
    "sp.Set(sig, \"->\", sig.diff()) # +1-1 в числитель -> s(x) * (1 - s(x))"
   ]
  },
  {
   "cell_type": "markdown",
   "metadata": {},
   "source": [
    "Найдите производную этой функции активации $th(x) = \\frac{e^x - e^{-x}}{e^x + e^{-x}}$"
   ]
  },
  {
   "cell_type": "code",
   "execution_count": 21,
   "metadata": {},
   "outputs": [
    {
     "data": {
      "text/latex": [
       "$\\displaystyle \\operatorname{Set}\\left(\\frac{e^{x} - e^{- x}}{e^{x} + e^{- x}}, \\mathtt{\\text{->}}, \\frac{\\left(- e^{x} + e^{- x}\\right) \\left(e^{x} - e^{- x}\\right)}{\\left(e^{x} + e^{- x}\\right)^{2}} + 1\\right)$"
      ],
      "text/plain": [
       "Set((exp(x) - exp(-x))/(exp(x) + exp(-x)), ->, (-exp(x) + exp(-x))*(exp(x) - exp(-x))/(exp(x) + exp(-x))**2 + 1)"
      ]
     },
     "execution_count": 21,
     "metadata": {},
     "output_type": "execute_result"
    }
   ],
   "source": [
    "th = (sp.exp(x) - sp.exp(-x)) / (sp.exp(x) + sp.exp(-x))\n",
    "\n",
    "sp.Set(th, \"->\", th.diff()) # -> 1 - th^2"
   ]
  },
  {
   "cell_type": "markdown",
   "metadata": {},
   "source": [
    "# <a id='toc2_'></a>[Булевы операции в виде нейронов](#toc0_)"
   ]
  },
  {
   "cell_type": "markdown",
   "metadata": {},
   "source": [
    "### <a id='toc2_1_1_'></a>[Оператор НЕ](#toc0_)\n",
    "\n",
    "    x   !x\n",
    "    1   0\n",
    "    0   1\n",
    "\n",
    "$$step(z) = \\begin{cases} \n",
    "0, & z \\leq 0 \\\\\n",
    "1, & z > 0\n",
    "\\end{cases}$$\n",
    "\n",
    "$$y(x) = step(w \\cdot x + b)$$\n",
    "\n",
    "$$\\begin{cases} \n",
    "step(w + b) = 0 \\\\\n",
    "step(b) = 1\n",
    "\\end{cases} \n",
    "\\rightarrow\n",
    "\\begin{cases} \n",
    "w + b \\leq 0 \\\\\n",
    "b > 0 \n",
    "\\end{cases}\n",
    "\\rightarrow\n",
    "\\begin{cases} \n",
    "w \\leq -b \\\\\n",
    "b > 0 \n",
    "\\end{cases}$$\n",
    "\n",
    "\n",
    "Например $\\begin{cases} w = -1, \\\\b = 1\\end{cases}$"
   ]
  },
  {
   "cell_type": "markdown",
   "metadata": {},
   "source": [
    "### <a id='toc2_1_2_'></a>[Оператор И](#toc0_)\n",
    "\n",
    "    x1  x2  x1&x2\n",
    "    1   1   1\n",
    "    1   0   0\n",
    "    0   1   0\n",
    "    0   0   0\n",
    "\n",
    "\n",
    "$$y(x) = step(w_1 x_1 + w_2 x_2 + b)$$\n",
    "\n",
    "$$\\begin{cases} \n",
    "step(w_1 + w_2 + b) = 1 \\\\\n",
    "step(w_1 + b) = 0 \\\\\n",
    "step(w_2 + b) = 0 \\\\\n",
    "step(b) = 0 \n",
    "\\end{cases} \n",
    "\\rightarrow\n",
    "\\begin{cases} \n",
    "w_1 + w_2 + b > 0 \\\\\n",
    "w_1 + b \\leq 0 \\\\\n",
    "w_2 + b \\leq 0 \\\\\n",
    "b \\leq 0 \n",
    "\\end{cases}\n",
    "\\rightarrow\n",
    "\\begin{cases} \n",
    "w_1 + w_2 + b > 0 \\\\\n",
    "w_1 \\leq -b \\\\\n",
    "w_2 \\leq -b \\\\\n",
    "b \\leq 0 \n",
    "\\end{cases}$$\n",
    "\n",
    "Например $\\begin{cases} w_1 = w_2 = 0.6, \\\\b = -1\\end{cases} \\rightarrow 0.6 x_1 + 0.6 x_2 -1 = 0 \\rightarrow x_2 = - x_1 + 1.66... $\n",
    "\n",
    "Таким образом, получается **разделяющая поверхность**\n",
    "\n",
    "<img src=\"./img/and.png\" width=\"200\">"
   ]
  },
  {
   "cell_type": "markdown",
   "metadata": {},
   "source": [
    "### <a id='toc2_1_3_'></a>[Оператор ИЛИ](#toc0_)\n",
    "\n",
    "    x1  x2  x1||x2\n",
    "    1   1   1\n",
    "    1   0   1\n",
    "    0   1   1\n",
    "    0   0   0\n",
    "\n",
    "\n",
    "$$y(x) = step(w_1 x_1 + w_2 x_2 + b)$$\n",
    "\n",
    "$$\\begin{cases} \n",
    "step(w_1 + w_2 + b) = 1 \\\\\n",
    "step(w_1 + b) = 1 \\\\\n",
    "step(w_2 + b) = 1 \\\\\n",
    "step(b) = 0 \n",
    "\\end{cases} \n",
    "\\rightarrow\n",
    "\\begin{cases} \n",
    "w_1 + w_2 + b > 0 \\\\\n",
    "w_1 + b > 0 \\\\\n",
    "w_2 + b > 0 \\\\\n",
    "b \\leq 0 \n",
    "\\end{cases}\n",
    "\\rightarrow\n",
    "\\begin{cases} \n",
    "w_1 + w_2 > -b \\\\\n",
    "w_1 > -b \\\\\n",
    "w_2 > -b \\\\\n",
    "b \\leq 0 \n",
    "\\end{cases}$$\n",
    "\n",
    "Например $\\begin{cases} w_1 = w_2 = 1.1, \\\\b = -1\\end{cases} \\rightarrow 1.1 x_1 + 1.1 x_2 -1 = 0 \\rightarrow x_2 = - x_1 + 0.9090909... $\n",
    "\n",
    "Похожая разделяющая поверхность, но расположенная \"чуть ниже\"\n",
    "\n",
    "<img src=\"./img/or.png\" width=\"200\">"
   ]
  },
  {
   "cell_type": "markdown",
   "metadata": {},
   "source": [
    "### <a id='toc2_1_4_'></a>[Оператор искл.ИЛИ (XOR)](#toc0_)\n",
    "\n",
    "    x1  x2  x1 XOR x2\n",
    "    1   1   0\n",
    "    1   0   1\n",
    "    0   1   1\n",
    "    0   0   0\n",
    "\n",
    "\n",
    "$$y(x) = step(w_1 x_1 + w_2 x_2 + b)$$\n",
    "\n",
    "$$\\begin{cases} \n",
    "step(w_1 + w_2 + b) = 0\\\\\n",
    "step(w_1 + b) = 1 \\\\\n",
    "step(w_2 + b) = 1 \\\\\n",
    "step(b) = 0 \n",
    "\\end{cases} \n",
    "\\rightarrow\n",
    "\\begin{cases} \n",
    "w_1 + w_2 + b \\leq 0 \\\\\n",
    "w_1 + b > 0 \\\\\n",
    "w_2 + b > 0 \\\\\n",
    "b \\leq 0 \n",
    "\\end{cases}\n",
    "\\rightarrow\n",
    "\\begin{cases} \n",
    "w_1 + w_2 \\leq -b \\\\\n",
    "w_1 > -b \\\\\n",
    "w_2 > -b \\\\\n",
    "b \\leq 0 \n",
    "\\end{cases}$$\n",
    "\n",
    "**Решения нет (в виде одного нейрона)**\n",
    "\n",
    "Линейная разделяющая поверхность невозможна\n",
    "\n",
    "<img src=\"./img/xor.png\" width=\"200\">\n",
    "\n",
    "**Решение**\n",
    "\n",
    "Представить операцию в виде нескольких нейронов\n",
    "\n",
    "<img src=\"./img/5xor.png\" width=\"400\">\n",
    "\n",
    "- Сеть позволяет сделать **нелинейную операцию** (построить нелинейную разделющую поверхность)\n",
    "- Мы использовали 5 нейронов. Но для решения задачи можно использовать всего 3.\n",
    "\n",
    "**Например (само придумалось)** $(x_1 НЕ.ИЛИ x_2) НЕ.ИЛИ (x_1 И x_2)$\n",
    "\n",
    "\n",
    "    x1  x2  (x_1 НЕ.ИЛИ x_2) НЕ.ИЛИ (x1 И x2)   \n",
    "    1   1   0                0       1\n",
    "    1   0   0                1       0\n",
    "    0   1   0                1       0\n",
    "    0   0   1                0       0   \n",
    "\n",
    "НЕ.ИЛИ - это типа ИЛИ, но с коэффициентами (весами) с обратным знаком.  \n",
    "Если `neuron()` – модель нейрона с пороговой функцией активации, то например получим:\n",
    "\n",
    "    neuron(-1.1 * neuron(-1.1 * x1 + -1.1 * x2 + 1) \n",
    "           - 1.1 * neuron(0.6 * x1 + 0.6 * x2 - 1) \n",
    "           + 1)\n",
    "**Верно, но слишком сложно:**"
   ]
  },
  {
   "cell_type": "code",
   "execution_count": 47,
   "metadata": {},
   "outputs": [
    {
     "data": {
      "image/png": "[encoded data removed]",
      "text/plain": [
       "<Figure size 432x288 with 1 Axes>"
      ]
     },
     "metadata": {
      "needs_background": "light"
     },
     "output_type": "display_data"
    }
   ],
   "source": [
    "import matplotlib.pyplot as plt\n",
    "import numpy as np\n",
    "\n",
    "x1x2 = np.array([[0,0],[1,0],[0,1],[1,1]])\n",
    "\n",
    "def neuron(value):\n",
    "    return 0 if value <= 0 else 1\n",
    "\n",
    "for x1, x2 in x1x2:\n",
    "    value = neuron(-1.1 * neuron(-1.1 * x1 + -1.1 * x2 + 1) \\\n",
    "           - 1.1 * neuron(0.6 * x1 + 0.6 * x2 - 1)  \\\n",
    "           + 1)\n",
    "    value = neuron(neuron(-1*x1 + 1*x2 - 0.5) + neuron(1*x1 - 1*x2 - 0.5))\n",
    "    value = neuron(2*neuron(x1 + x2) - neuron(x1) - x2)     # neuron(x1) == x1\n",
    "    value = neuron(2*neuron(x1 + x2) - x1 - x2)             # т.е. фактически это 2 нейрона (со связями в обход слоя)\n",
    "    value = neuron(neuron(x1-x2)+neuron(x2-x1))\n",
    "\n",
    "    if (value > 0):\n",
    "        plt.plot(x1, x2, '+', color=\"green\")\n",
    "    elif (value <= 0):\n",
    "        plt.plot(x1, x2, 'o', color=\"red\")\n",
    "\n",
    "plt.gca().set_aspect('equal', adjustable='box')\n",
    "            \n",
    "plt.xlabel('x1')\n",
    "plt.ylabel('x2')\n",
    "\n",
    "plt.show()"
   ]
  },
  {
   "cell_type": "markdown",
   "metadata": {},
   "source": [
    "# <a id='toc3_'></a>[От нейрона к нейронной сети](#toc0_)\n",
    "\n",
    "На примере разделяющей поверхности XOR видно, что объединение нейронов (**линейных** элементов) в сети позволяет строить **нелинейные** поверхности разделяющие классы, более того, они могут образовывать не обязательныо связные области.\n",
    "\n",
    "\\* Сеть должна иметь нелинейную функцию активации, если хотим иметь \"универсальный аппроксиматор\" (Теорема Цыбенко, Теорема Колмогорова — Арнольда). \n",
    "\n",
    "### <a id='toc3_1_1_'></a>[Сеть нейронов с линейной активацией](#toc0_)\n",
    "\n",
    "В простейшем случае это активация $f(z) = z$, но $f(z) = a z + b$ сути не поменяет.\n",
    "\n",
    "**Например**:\n",
    "\n",
    "Три нейрона ($y_1, y_2, y_3$) с функцией активации $f(z) = z$. Два в первом слое, один - во втором ($y_3$). И например 2 входа $x_1, x_2$\n",
    "\n",
    "$$y_3 = w_2^3 y_2 + w_1^3 y_1 + b^3 = w_2^3 (w_1^2 x_1 + w_2^2 x_2 + b^2) + w_1^3 (w_1^1 x_1 + w_2^1 x_2 + b^1) + b^3 = x_1 \\tilde w_1 + x_2 \\tilde w_2 + \\tilde b $$ \n",
    "\n",
    "Т.е. получаем просто **линейную комбинацию из входов**.\n",
    "\n",
    "Осюда следует, что такой **полносвязный линейный слой имеет смысл добавлять в сеть только один**, т.к. многослойные конструкции все равно сведутся к линейной кобинации входов."
   ]
  },
  {
   "cell_type": "markdown",
   "metadata": {},
   "source": [
    "**Семинар** по основам торча в `./Neural_Networks_and_CV`"
   ]
  }
 ],
 "metadata": {
  "interpreter": {
   "hash": "75291dc0307ea48294888123147845d2e15abd18d38848ca6ac05a6fe8c88425"
  },
  "kernelspec": {
   "display_name": "Python 3.9.11 ('py39')",
   "language": "python",
   "name": "python3"
  },
  "language_info": {
   "codemirror_mode": {
    "name": "ipython",
    "version": 3
   },
   "file_extension": ".py",
   "mimetype": "text/x-python",
   "name": "python",
   "nbconvert_exporter": "python",
   "pygments_lexer": "ipython3",
   "version": "3.9.11"
  },
  "orig_nbformat": 4
 },
 "nbformat": 4,
 "nbformat_minor": 2
}
