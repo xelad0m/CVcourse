{
 "cells": [
  {
   "cell_type": "markdown",
   "metadata": {
    "colab_type": "text",
    "id": "cdjn6pICZMoM"
   },
   "source": [
    "![alt text](../img/lenet2.png)"
   ]
  },
  {
   "cell_type": "markdown",
   "metadata": {
    "colab_type": "text",
    "id": "14icu4JgZXqM"
   },
   "source": [
    "![alt text](../img/lenet_table.png)\n",
    "\n",
    "Мы рассмотрим архитектуру LeNet, она не самая лучшая, но она довольно логичная.\n",
    "\n",
    "- Сперва у нас подаётся изображение размером 32 на 32. В MNIST изображения 28 на 28, мы с этим тоже немножко поработаем. \n",
    "- Это изображение прогоняется через свёртку 5 на 5, с шестью выходными каналами, значит - у нас свёртка 5 на 5 проходит по всему изображению. У неё нулевые паддинги, то есть она не выходит за границы изображения, и по этой причине она обрезает два пикселя с каждой стороны изображения, и выходное изображение от 32 на 32 преобразуется к изображению 28 на 28. \n",
    "- Но теперь это уже не изображение а тензор глубиной 6, потому что свёртка - с шестью выходными каналами. \n",
    "- После этого тензор (28 на 28 на 6) передается в average pooling (сейчас уже, в принципе, так не делают - уже везде используют max pooling, но здесь ещё используется average pooling), который вычисляет среднее значение по квадрату 2 на 2. Он по всему изображению проходит со страйдом 2 (то есть он берёт непересекающиеся участки 2 на 2), и вычисляет среднее значение пикселей или чисел, которые оказываются в этом тензоре. \n",
    "- И на выходе у него один пиксель, соответственно, всё изображение ужимается в два раза: было 28 на 28 на 6, стало 14 на 14 на 6. \n",
    "- Далее повторяется точно такая же свёртка, как в первый раз, только теперь у неё количество входных каналов - 6, а выходных каналов - 16. При этом, из 14 на 14, изображение получается 10 на 10, потому что у нас по два пикселя съелось с каждой стороны, потому что мы применяли свёртки без паддингов - без выхода за границы изображения. \n",
    "- Далее снова пулинг (точно такой же, 2 на 2 average pooling), и далее у нас есть два варианта, что делать (в принципе они аналогичные). В LeNet как делается? Берут свёртку 5 на 5, (потому что у нас получается тензор 5 на 5 на 16) с количеством входных каналов 16, а выходных - 120. И вот эта свёртка, она превращает наш глубокий тензор в один вектор размера 1 на 1 на 120. \n",
    "- А мы сделаем немножко по-другому: сначала вот этот тензор 5 на 5 на 16 мы растянем в один вектор. И у нас есть готовый вектор, к которому можно применить полносвязанный слой, который на выходе будет иметь 120 нейронов. То есть - что тут, 120 нейронов после свёртки, что у нас в полносвязанном слое будет 120 нейронов, при этом количество весов будет одинаковое. \n",
    "- То есть у нас на входе 16 на 5 на 5, и конволюционному слою придётся выучить все эти веса: 5 на 5 на 16 - это 400 весов. И то же самое будет с полносвязанным слоем, ему придётся выучить 400 весов для каждого из 120 нейронов. \n",
    "- После того, как мы получили вот этот вектор длиной 120 (неважно, каким способом), мы применяем к нему два полносвязанных слоя. Первый полносвязанный из 120 нейронов получает 84 нейрона, а второй полносвязанный слой - он уже нам отдает ответ, то есть он отдает нам 10 нейронов, которые потом преобразуются в одну из цифр."
   ]
  },
  {
   "cell_type": "code",
   "execution_count": 1,
   "metadata": {
    "colab": {},
    "colab_type": "code",
    "id": "85_HkTjcNZeg"
   },
   "outputs": [],
   "source": [
    "import torch\n",
    "import random\n",
    "import numpy as np\n",
    "\n",
    "random.seed(0)\n",
    "np.random.seed(0)\n",
    "torch.manual_seed(0)\n",
    "torch.cuda.manual_seed(0)\n",
    "torch.backends.cudnn.deterministic = True"
   ]
  },
  {
   "cell_type": "code",
   "execution_count": null,
   "metadata": {},
   "outputs": [],
   "source": [
    "from torchvision.models import resnet18"
   ]
  },
  {
   "cell_type": "code",
   "execution_count": 2,
   "metadata": {
    "colab": {},
    "colab_type": "code",
    "id": "kjPVw9UfNZel"
   },
   "outputs": [],
   "source": [
    "import torchvision.datasets"
   ]
  },
  {
   "cell_type": "code",
   "execution_count": 3,
   "metadata": {},
   "outputs": [
    {
     "data": {
      "text/plain": [
       "'/mnt/INT_STORAGE/_data_models'"
      ]
     },
     "execution_count": 3,
     "metadata": {},
     "output_type": "execute_result"
    }
   ],
   "source": [
    "import os\n",
    "\n",
    "DATA_HOME = os.environ[\"DATA_HOME\"]     # мне так удобно (звучит как крик о помощи)\n",
    "DATA_HOME"
   ]
  },
  {
   "cell_type": "code",
   "execution_count": 4,
   "metadata": {
    "colab": {},
    "colab_type": "code",
    "id": "MqGQWTDIpS3R"
   },
   "outputs": [],
   "source": [
    "# 63 MB\n",
    "import torchvision.datasets\n",
    "MNIST_train = torchvision.datasets.MNIST(f'{DATA_HOME}/torchvision', download=True, train=True)\n",
    "MNIST_test = torchvision.datasets.MNIST(f'{DATA_HOME}/torchvision', download=True, train=False)"
   ]
  },
  {
   "cell_type": "code",
   "execution_count": 5,
   "metadata": {
    "colab": {
     "base_uri": "https://localhost:8080/",
     "height": 155
    },
    "colab_type": "code",
    "id": "nyrpGOtPNZeq",
    "outputId": "128d4d8d-8ebc-44d7-e8ed-04a92cd7dd40"
   },
   "outputs": [],
   "source": [
    "X_train = MNIST_train.data\n",
    "y_train = MNIST_train.targets\n",
    "X_test = MNIST_test.data\n",
    "y_test = MNIST_test.targets"
   ]
  },
  {
   "cell_type": "code",
   "execution_count": 6,
   "metadata": {
    "colab": {
     "base_uri": "https://localhost:8080/",
     "height": 35
    },
    "colab_type": "code",
    "id": "f_TmOTWdNZet",
    "outputId": "eb87b5af-7e23-4a1f-bc58-cdfc4774d4aa"
   },
   "outputs": [
    {
     "data": {
      "text/plain": [
       "(60000, 10000)"
      ]
     },
     "execution_count": 6,
     "metadata": {},
     "output_type": "execute_result"
    }
   ],
   "source": [
    "len(y_train), len(y_test)"
   ]
  },
  {
   "cell_type": "code",
   "execution_count": 7,
   "metadata": {
    "colab": {
     "base_uri": "https://localhost:8080/",
     "height": 286
    },
    "colab_type": "code",
    "id": "Zd-E4vIpNZe1",
    "outputId": "f72d8415-e392-4af7-9c8f-501eddb5cc9c"
   },
   "outputs": [
    {
     "data": {
      "image/png": "[encoded data removed]",
      "text/plain": [
       "<Figure size 432x288 with 1 Axes>"
      ]
     },
     "metadata": {
      "needs_background": "light"
     },
     "output_type": "display_data"
    },
    {
     "name": "stdout",
     "output_type": "stream",
     "text": [
      "tensor(5)\n"
     ]
    }
   ],
   "source": [
    "import matplotlib.pyplot as plt\n",
    "plt.imshow(X_train[0, :, :])\n",
    "plt.show()\n",
    "print(y_train[0])"
   ]
  },
  {
   "cell_type": "code",
   "execution_count": 8,
   "metadata": {
    "colab": {},
    "colab_type": "code",
    "id": "Tf9LiDGuNZe6"
   },
   "outputs": [],
   "source": [
    "X_train = X_train.unsqueeze(1).float()\n",
    "X_test = X_test.unsqueeze(1).float()"
   ]
  },
  {
   "cell_type": "markdown",
   "metadata": {},
   "source": [
    "Кадр одноканальный:\n",
    "- добавляем измерение под каналы (оно после батча и перед кадром)\n",
    "- признаки во флот\n",
    "\n",
    "В торче размерность входа для 2д свертки (N, C, H, W)"
   ]
  },
  {
   "cell_type": "code",
   "execution_count": 9,
   "metadata": {
    "colab": {
     "base_uri": "https://localhost:8080/",
     "height": 35
    },
    "colab_type": "code",
    "id": "kxKAhEYHNZe-",
    "outputId": "5b8e9d61-4680-4b6c-8fa1-73e76490d019"
   },
   "outputs": [
    {
     "data": {
      "text/plain": [
       "torch.Size([60000, 1, 28, 28])"
      ]
     },
     "execution_count": 9,
     "metadata": {},
     "output_type": "execute_result"
    }
   ],
   "source": [
    "X_train.shape"
   ]
  },
  {
   "cell_type": "code",
   "execution_count": 10,
   "metadata": {
    "colab": {},
    "colab_type": "code",
    "id": "xhsw9soDODel"
   },
   "outputs": [],
   "source": [
    "class LeNet5(torch.nn.Module):\n",
    "    def __init__(self):\n",
    "        \"\"\"Все по описанной выше схеме:\n",
    "        - чтоб сохранить размерность - паддинг 2 (получаем 32х32 как в ориг.алгоритме)\n",
    "        - вместо свертки на 120 вых.каналов - полносвязный слой на 400х120 входов/выходов\n",
    "        - для этого тензор вытягивается в 1х1х400\n",
    "        - без софтмакса, т.к. кросс-энетропия принимает без софтмакса\"\"\"\n",
    "        super(LeNet5, self).__init__()\n",
    "        \n",
    "        self.conv1 = torch.nn.Conv2d(\n",
    "            in_channels=1, out_channels=6, kernel_size=5, padding=2)\n",
    "        self.act1  = torch.nn.Tanh()\n",
    "        self.pool1 = torch.nn.AvgPool2d(kernel_size=2, stride=2)\n",
    "       \n",
    "        self.conv2 = torch.nn.Conv2d(\n",
    "            in_channels=6, out_channels=16, kernel_size=5, padding=0)\n",
    "        self.act2  = torch.nn.Tanh()\n",
    "        self.pool2 = torch.nn.AvgPool2d(kernel_size=2, stride=2)\n",
    "        \n",
    "        self.fc1   = torch.nn.Linear(5 * 5 * 16, 120)\n",
    "        self.act3  = torch.nn.Tanh()\n",
    "        \n",
    "        self.fc2   = torch.nn.Linear(120, 84)\n",
    "        self.act4  = torch.nn.Tanh()\n",
    "        \n",
    "        self.fc3   = torch.nn.Linear(84, 10)\n",
    "    \n",
    "    def forward(self, x):\n",
    "        \n",
    "        x = self.conv1(x)\n",
    "        x = self.act1(x)\n",
    "        x = self.pool1(x)\n",
    "        \n",
    "        x = self.conv2(x)\n",
    "        x = self.act2(x)\n",
    "        x = self.pool2(x)\n",
    "        \n",
    "        x = x.view(x.size(0), x.size(1) * x.size(2) * x.size(3))\n",
    "\n",
    "        x = self.fc1(x)\n",
    "        x = self.act3(x)\n",
    "        x = self.fc2(x)\n",
    "        x = self.act4(x)\n",
    "        x = self.fc3(x)\n",
    "        \n",
    "        return x\n",
    "    \n",
    "lenet5 = LeNet5()"
   ]
  },
  {
   "cell_type": "code",
   "execution_count": 11,
   "metadata": {
    "colab": {},
    "colab_type": "code",
    "id": "qT-PsO7VNZfB"
   },
   "outputs": [],
   "source": [
    "device = torch.device('cuda:0' if torch.cuda.is_available() else 'cpu')\n",
    "lenet5 = lenet5.to(device)"
   ]
  },
  {
   "cell_type": "code",
   "execution_count": 12,
   "metadata": {
    "colab": {},
    "colab_type": "code",
    "id": "rkK0kv1VNZfL"
   },
   "outputs": [],
   "source": [
    "loss = torch.nn.CrossEntropyLoss()\n",
    "optimizer = torch.optim.Adam(lenet5.parameters(), lr=1.0e-3)"
   ]
  },
  {
   "cell_type": "code",
   "execution_count": 13,
   "metadata": {
    "colab": {
     "base_uri": "https://localhost:8080/",
     "height": 399
    },
    "colab_type": "code",
    "id": "XfA9gqSdNZfQ",
    "outputId": "d849c6a3-e134-4935-813b-b05f63a96ed6"
   },
   "outputs": [
    {
     "name": "stdout",
     "output_type": "stream",
     "text": [
      "tensor(0.9761)\n",
      "tensor(0.9835)\n",
      "tensor(0.9864)\n",
      "tensor(0.9893)\n",
      "tensor(0.9887)\n",
      "tensor(0.9882)\n",
      "tensor(0.9880)\n",
      "tensor(0.9901)\n",
      "tensor(0.9888)\n",
      "tensor(0.9862)\n"
     ]
    }
   ],
   "source": [
    "batch_size = 100\n",
    "\n",
    "test_accuracy_history = []\n",
    "test_loss_history = []\n",
    "\n",
    "X_test = X_test.to(device)\n",
    "y_test = y_test.to(device)\n",
    "\n",
    "for epoch in range(10):\n",
    "    order = np.random.permutation(len(X_train))\n",
    "    for start_index in range(0, len(X_train), batch_size):\n",
    "        optimizer.zero_grad()\n",
    "        \n",
    "        batch_indexes = order[start_index:start_index+batch_size]\n",
    "        \n",
    "        X_batch = X_train[batch_indexes].to(device)\n",
    "        y_batch = y_train[batch_indexes].to(device)\n",
    "        \n",
    "        preds = lenet5.forward(X_batch) \n",
    "        \n",
    "        loss_value = loss(preds, y_batch)\n",
    "        loss_value.backward()\n",
    "        \n",
    "        optimizer.step()\n",
    "        \n",
    "    test_preds = lenet5.forward(X_test)\n",
    "    \n",
    "    # в loss хранится весь граф вычислений функции потерь, поэтому \n",
    "    # аппендить нужно только скопированное на ЦПУ поле .data, чтоб \n",
    "    # остальное CUDA могла освободить\n",
    "    test_loss_history.append(loss(test_preds, y_test).data.cpu())\n",
    "    \n",
    "    accuracy = (test_preds.argmax(dim=1) == y_test).float().mean().data.cpu()\n",
    "    test_accuracy_history.append(accuracy)\n",
    "    \n",
    "    print(accuracy)"
   ]
  },
  {
   "cell_type": "code",
   "execution_count": 14,
   "metadata": {
    "colab": {},
    "colab_type": "code",
    "id": "H4hjogO8NZfS"
   },
   "outputs": [
    {
     "data": {
      "text/plain": [
       "tensor([[-2.3109,  0.1138,  1.1233,  ..., 13.6111, -2.4276,  3.2137],\n",
       "        [ 1.1579, -1.2353, 14.4741,  ..., -4.8807,  3.1475, -2.3309],\n",
       "        [-2.9998, 14.2202, -1.1490,  ...,  1.5017,  2.1506, -2.0906],\n",
       "        ...,\n",
       "        [-3.3096,  0.0390, -4.2435,  ...,  1.5647,  1.4010,  2.4368],\n",
       "        [-2.9055, -3.3319, -4.1277,  ..., -5.6521,  5.2788, -2.0395],\n",
       "        [ 1.7145, -4.7581,  0.8094,  ..., -7.4523, -0.5157, -1.6963]],\n",
       "       device='cuda:0', grad_fn=<AddmmBackward0>)"
      ]
     },
     "execution_count": 14,
     "metadata": {},
     "output_type": "execute_result"
    }
   ],
   "source": [
    "lenet5.forward(X_test)"
   ]
  },
  {
   "cell_type": "code",
   "execution_count": 16,
   "metadata": {
    "colab": {},
    "colab_type": "code",
    "id": "4FDtagQvNZfU"
   },
   "outputs": [
    {
     "data": {
      "image/png": "[encoded data removed]",
      "text/plain": [
       "<Figure size 432x288 with 1 Axes>"
      ]
     },
     "metadata": {
      "needs_background": "light"
     },
     "output_type": "display_data"
    }
   ],
   "source": [
    "plt.plot(test_accuracy_history);"
   ]
  },
  {
   "cell_type": "code",
   "execution_count": 17,
   "metadata": {},
   "outputs": [
    {
     "data": {
      "image/png": "[encoded data removed]",
      "text/plain": [
       "<Figure size 432x288 with 1 Axes>"
      ]
     },
     "metadata": {
      "needs_background": "light"
     },
     "output_type": "display_data"
    }
   ],
   "source": [
    "plt.plot(test_loss_history);"
   ]
  }
 ],
 "metadata": {
  "accelerator": "GPU",
  "colab": {
   "collapsed_sections": [],
   "name": "Lesson 6 Digits Recognition Convolutional Video.ipynb",
   "provenance": [],
   "version": "0.3.2"
  },
  "kernelspec": {
   "display_name": "Python 3",
   "language": "python",
   "name": "python3"
  },
  "language_info": {
   "codemirror_mode": {
    "name": "ipython",
    "version": 3
   },
   "file_extension": ".py",
   "mimetype": "text/x-python",
   "name": "python",
   "nbconvert_exporter": "python",
   "pygments_lexer": "ipython3",
   "version": "3.10.5"
  }
 },
 "nbformat": 4,
 "nbformat_minor": 1
}
