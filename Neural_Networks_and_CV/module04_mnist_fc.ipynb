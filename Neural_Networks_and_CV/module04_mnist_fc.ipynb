{
 "cells": [
  {
   "cell_type": "markdown",
   "metadata": {},
   "source": [
    "# Классификация рукописных чисел <u>полносвязанной</u> сетью"
   ]
  },
  {
   "cell_type": "code",
   "execution_count": 1,
   "metadata": {
    "colab": {},
    "colab_type": "code",
    "id": "DWr6cvb9pS3J"
   },
   "outputs": [],
   "source": [
    "import torch\n",
    "import random\n",
    "import numpy as np\n",
    "\n",
    "random.seed(0)\n",
    "np.random.seed(0)\n",
    "torch.manual_seed(0)\n",
    "torch.cuda.manual_seed(0)\n",
    "torch.backends.cudnn.deterministic = True"
   ]
  },
  {
   "cell_type": "code",
   "execution_count": 2,
   "metadata": {},
   "outputs": [],
   "source": [
    "import os\n",
    "\n",
    "DATA_HOME = os.environ[\"DATA_HOME\"]     # мне так удобно"
   ]
  },
  {
   "cell_type": "code",
   "execution_count": 3,
   "metadata": {
    "colab": {},
    "colab_type": "code",
    "id": "MqGQWTDIpS3R"
   },
   "outputs": [],
   "source": [
    "import torchvision.datasets\n",
    "MNIST_train = torchvision.datasets.MNIST(f'{DATA_HOME}/torchvision', download=True, train=True)\n",
    "MNIST_test = torchvision.datasets.MNIST(f'{DATA_HOME}/torchvision', download=True, train=False)"
   ]
  },
  {
   "cell_type": "code",
   "execution_count": 4,
   "metadata": {
    "colab": {},
    "colab_type": "code",
    "id": "vv_Lz7PYpS3U"
   },
   "outputs": [],
   "source": [
    "X_train = MNIST_train.data\n",
    "y_train = MNIST_train.targets\n",
    "X_test = MNIST_test.data\n",
    "y_test = MNIST_test.targets"
   ]
  },
  {
   "cell_type": "markdown",
   "metadata": {},
   "source": [
    "X_data, то есть сами картинки, имеют тип dtype \"unsigned int8\", а вот лейблы имеют тип \"int64\". хочется, чтобы данные были в дробных числах"
   ]
  },
  {
   "cell_type": "code",
   "execution_count": 5,
   "metadata": {
    "colab": {
     "base_uri": "https://localhost:8080/",
     "height": 35
    },
    "colab_type": "code",
    "id": "hMhsAedlrQF5",
    "outputId": "ae08bd21-79ff-48da-9886-48996a178110"
   },
   "outputs": [
    {
     "data": {
      "text/plain": [
       "(torch.uint8, torch.int64)"
      ]
     },
     "execution_count": 5,
     "metadata": {},
     "output_type": "execute_result"
    }
   ],
   "source": [
    "X_train.dtype, y_train.dtype"
   ]
  },
  {
   "cell_type": "markdown",
   "metadata": {},
   "source": [
    "сразу преобразуем X_train и X_test во float (в дробные числа)"
   ]
  },
  {
   "cell_type": "code",
   "execution_count": 6,
   "metadata": {
    "colab": {},
    "colab_type": "code",
    "id": "_yTaVOrPvap6"
   },
   "outputs": [],
   "source": [
    "X_train = X_train.float()\n",
    "X_test = X_test.float()"
   ]
  },
  {
   "cell_type": "markdown",
   "metadata": {},
   "source": [
    " X_train и X_test имеют размерности 60 тысяч изображений и 10 тысяч соответственно, и сами изображения (они размером 28 на 28) -- это очень маленькие картинки, **поэтому мы и можем применять полносвязанную нейронную сеть для такой задачи**"
   ]
  },
  {
   "cell_type": "code",
   "execution_count": 7,
   "metadata": {
    "colab": {
     "base_uri": "https://localhost:8080/",
     "height": 35
    },
    "colab_type": "code",
    "id": "_gfupg4kpS3X",
    "outputId": "e72c3ff4-50f7-4695-d5d5-f838e7ac2667"
   },
   "outputs": [
    {
     "data": {
      "text/plain": [
       "(torch.Size([60000, 28, 28]), torch.Size([10000, 28, 28]))"
      ]
     },
     "execution_count": 7,
     "metadata": {},
     "output_type": "execute_result"
    }
   ],
   "source": [
    "X_train.shape, X_test.shape"
   ]
  },
  {
   "cell_type": "markdown",
   "metadata": {},
   "source": [
    "Лейблы y_train и y_test -- они имеют соответствующий размер и у них нету дополнительной размерности. Это одномерный тензор, и поэтому мы обозначили X_train с большой буквы а y_train -- с маленькой, предполагая, что X_train -- это многомерный тензор, y -- это одномерный (поэтому с маленькой)"
   ]
  },
  {
   "cell_type": "code",
   "execution_count": 8,
   "metadata": {
    "colab": {
     "base_uri": "https://localhost:8080/",
     "height": 35
    },
    "colab_type": "code",
    "id": "zEC1RXBEz_SW",
    "outputId": "48b9a605-2622-4188-b326-116b675bd499"
   },
   "outputs": [
    {
     "data": {
      "text/plain": [
       "(torch.Size([60000]), torch.Size([10000]))"
      ]
     },
     "execution_count": 8,
     "metadata": {},
     "output_type": "execute_result"
    }
   ],
   "source": [
    "y_train.shape, y_test.shape"
   ]
  },
  {
   "cell_type": "markdown",
   "metadata": {},
   "source": [
    "Как выглядят изображения"
   ]
  },
  {
   "cell_type": "code",
   "execution_count": 9,
   "metadata": {
    "colab": {
     "base_uri": "https://localhost:8080/",
     "height": 365
    },
    "colab_type": "code",
    "id": "Z1tFXMwJpS3e",
    "outputId": "e7c2778b-d6f5-4718-ea28-fc8544f0416c"
   },
   "outputs": [
    {
     "data": {
      "image/png": "[encoded data removed]",
      "text/plain": [
       "<Figure size 432x288 with 1 Axes>"
      ]
     },
     "metadata": {
      "needs_background": "light"
     },
     "output_type": "display_data"
    },
    {
     "name": "stdout",
     "output_type": "stream",
     "text": [
      "tensor(5)\n"
     ]
    }
   ],
   "source": [
    "import matplotlib.pyplot as plt\n",
    "plt.imshow(X_train[0, :, :])\n",
    "plt.show()\n",
    "print(y_train[0])"
   ]
  },
  {
   "cell_type": "markdown",
   "metadata": {},
   "source": [
    "Растянуть наши картинки в одномерный вектор признаков нам поможет функция `reshape`.\n",
    "- потеряется некоторая информация о том, какие пиксели были рядом какие находились далеко, но в принципе нам этого хватит. "
   ]
  },
  {
   "cell_type": "code",
   "execution_count": 10,
   "metadata": {},
   "outputs": [
    {
     "name": "stderr",
     "output_type": "stream",
     "text": [
      "/home/user1/envs/py310/lib64/python3/site-packages/torch/_tensor.py:549: UserWarning: non-inplace resize is deprecated\n",
      "  warnings.warn(\"non-inplace resize is deprecated\")\n"
     ]
    },
    {
     "data": {
      "text/plain": [
       "(torch.Size([60000, 784]),\n",
       " torch.Size([60000, 784]),\n",
       " torch.Size([60000, 784]),\n",
       " torch.Size([60000, 784]),\n",
       " torch.Size([60000, 784]),\n",
       " torch.Size([60000, 784]))"
      ]
     },
     "execution_count": 10,
     "metadata": {},
     "output_type": "execute_result"
    }
   ],
   "source": [
    "# варианты, как это еще можно, по сути задачи лучше flatten (размеры не нужно вычислять)\n",
    "(X_train.flatten(start_dim=1, end_dim=-1).shape, \n",
    " X_train.view(-1, 28*28).shape, \n",
    " X_train.view(X_train.shape[0], -1).shape,\n",
    " X_train.reshape([-1, 28 * 28]).shape,\n",
    " X_train.reshape([X_train.shape[0], -1]).shape,\n",
    " X_train.resize(X_train.shape[0], 28 * 28).shape)"
   ]
  },
  {
   "cell_type": "code",
   "execution_count": 11,
   "metadata": {
    "colab": {},
    "colab_type": "code",
    "id": "IUZgNg7zpS3j"
   },
   "outputs": [],
   "source": [
    "X_train = X_train.reshape([-1, 28 * 28])\n",
    "X_test = X_test.reshape([-1, 28 * 28])"
   ]
  },
  {
   "cell_type": "code",
   "execution_count": 12,
   "metadata": {},
   "outputs": [
    {
     "data": {
      "text/plain": [
       "torch.Size([60000, 784])"
      ]
     },
     "execution_count": 12,
     "metadata": {},
     "output_type": "execute_result"
    }
   ],
   "source": [
    "X_train.shape"
   ]
  },
  {
   "cell_type": "markdown",
   "metadata": {},
   "source": [
    "Сеть будет подбирать комбинацию сигмоид максимально близко выражающую векторное представление кадра по каждому классу (цифры 0-9):\n",
    "- исходим из того, что зависимость класса от векторного представления достаточно различимая в шуме (погрешность рисования)\n",
    "\n",
    "Сигмоидная активация - это вот то, что называют \"добавить нелинейность\"\n",
    "\n",
    "Софтмакс на выходе не считаем, потому что сам по себе он нас тут не интересует, а встроенный `CrossEntropyLoss` по-умочанию входы нормирует софтмаксом самостоятельно."
   ]
  },
  {
   "cell_type": "code",
   "execution_count": 13,
   "metadata": {
    "colab": {},
    "colab_type": "code",
    "id": "k7l65slppS3l"
   },
   "outputs": [],
   "source": [
    "class MNISTNet(torch.nn.Module):\n",
    "    def __init__(self, n_hidden_neurons):\n",
    "        super(MNISTNet, self).__init__()\n",
    "        self.fc1 = torch.nn.Linear(28 * 28, n_hidden_neurons)\n",
    "        self.ac1 = torch.nn.Sigmoid()\n",
    "        self.fc2 = torch.nn.Linear(n_hidden_neurons, 10) \n",
    "    \n",
    "    def forward(self, x):\n",
    "        x = self.fc1(x)\n",
    "        x = self.ac1(x)\n",
    "        x = self.fc2(x)\n",
    "        return x\n",
    "    \n",
    "mnist_net = MNISTNet(100)"
   ]
  },
  {
   "cell_type": "code",
   "execution_count": 14,
   "metadata": {
    "colab": {},
    "colab_type": "code",
    "id": "FJp7t3dR0pC5"
   },
   "outputs": [
    {
     "data": {
      "text/plain": [
       "True"
      ]
     },
     "execution_count": 14,
     "metadata": {},
     "output_type": "execute_result"
    }
   ],
   "source": [
    "torch.cuda.is_available()"
   ]
  },
  {
   "cell_type": "code",
   "execution_count": 15,
   "metadata": {
    "colab": {},
    "colab_type": "code",
    "id": "iUHy-780po9d"
   },
   "outputs": [],
   "source": [
    "device = torch.device('cuda:0' if torch.cuda.is_available() else 'cpu')\n",
    "mnist_net = mnist_net.to(device)\n",
    "# list(mnist_net.parameters())"
   ]
  },
  {
   "cell_type": "markdown",
   "metadata": {},
   "source": [
    "Функция потерь - кросс-энтропия, потому что это loss, который используется в классификации.\n",
    "\n",
    "Нужно подчеркнуть, что функция CrossEntropyLoss на вход принимает не вероятности, а те выходы, которые до софтмакса, то есть функция forward, которую мы написали, не содержала софтмакс, потому что мы хотим немножко ускорить наши вычисления, избежав софтмакса."
   ]
  },
  {
   "cell_type": "code",
   "execution_count": 16,
   "metadata": {
    "colab": {},
    "colab_type": "code",
    "id": "00_2j2igpS3o"
   },
   "outputs": [],
   "source": [
    "loss = torch.nn.CrossEntropyLoss()\n",
    "optimizer = torch.optim.Adam(mnist_net.parameters(), lr=1.0e-3)"
   ]
  },
  {
   "cell_type": "code",
   "execution_count": 17,
   "metadata": {
    "colab": {},
    "colab_type": "code",
    "id": "wZtqiGvfpS3r"
   },
   "outputs": [
    {
     "name": "stdout",
     "output_type": "stream",
     "text": [
      "tensor(0.9055, device='cuda:0')\n",
      "tensor(0.9144, device='cuda:0')\n",
      "tensor(0.9197, device='cuda:0')\n",
      "tensor(0.9217, device='cuda:0')\n",
      "tensor(0.9185, device='cuda:0')\n",
      "tensor(0.9267, device='cuda:0')\n",
      "tensor(0.9246, device='cuda:0')\n",
      "tensor(0.9271, device='cuda:0')\n",
      "tensor(0.9262, device='cuda:0')\n",
      "tensor(0.9378, device='cuda:0')\n",
      "tensor(0.9368, device='cuda:0')\n",
      "tensor(0.9335, device='cuda:0')\n",
      "tensor(0.9345, device='cuda:0')\n",
      "tensor(0.9370, device='cuda:0')\n",
      "tensor(0.9399, device='cuda:0')\n",
      "tensor(0.9343, device='cuda:0')\n",
      "tensor(0.9378, device='cuda:0')\n",
      "tensor(0.9430, device='cuda:0')\n",
      "tensor(0.9395, device='cuda:0')\n",
      "tensor(0.9371, device='cuda:0')\n",
      "tensor(0.9430, device='cuda:0')\n",
      "tensor(0.9430, device='cuda:0')\n",
      "tensor(0.9405, device='cuda:0')\n",
      "tensor(0.9401, device='cuda:0')\n",
      "tensor(0.9446, device='cuda:0')\n",
      "tensor(0.9411, device='cuda:0')\n",
      "tensor(0.9389, device='cuda:0')\n",
      "tensor(0.9430, device='cuda:0')\n",
      "tensor(0.9441, device='cuda:0')\n",
      "tensor(0.9446, device='cuda:0')\n",
      "tensor(0.9465, device='cuda:0')\n",
      "tensor(0.9451, device='cuda:0')\n",
      "tensor(0.9419, device='cuda:0')\n",
      "tensor(0.9454, device='cuda:0')\n",
      "tensor(0.9386, device='cuda:0')\n",
      "tensor(0.9464, device='cuda:0')\n",
      "tensor(0.9490, device='cuda:0')\n",
      "tensor(0.9475, device='cuda:0')\n",
      "tensor(0.9461, device='cuda:0')\n",
      "tensor(0.9433, device='cuda:0')\n",
      "tensor(0.9453, device='cuda:0')\n",
      "tensor(0.9449, device='cuda:0')\n",
      "tensor(0.9530, device='cuda:0')\n",
      "tensor(0.9495, device='cuda:0')\n",
      "tensor(0.9482, device='cuda:0')\n",
      "tensor(0.9475, device='cuda:0')\n",
      "tensor(0.9492, device='cuda:0')\n",
      "tensor(0.9498, device='cuda:0')\n",
      "tensor(0.9512, device='cuda:0')\n",
      "tensor(0.9497, device='cuda:0')\n",
      "tensor(0.9508, device='cuda:0')\n",
      "tensor(0.9508, device='cuda:0')\n",
      "tensor(0.9505, device='cuda:0')\n",
      "tensor(0.9534, device='cuda:0')\n",
      "tensor(0.9491, device='cuda:0')\n",
      "tensor(0.9529, device='cuda:0')\n",
      "tensor(0.9519, device='cuda:0')\n",
      "tensor(0.9525, device='cuda:0')\n",
      "tensor(0.9536, device='cuda:0')\n",
      "tensor(0.9502, device='cuda:0')\n",
      "tensor(0.9526, device='cuda:0')\n",
      "tensor(0.9530, device='cuda:0')\n",
      "tensor(0.9504, device='cuda:0')\n",
      "tensor(0.9533, device='cuda:0')\n",
      "tensor(0.9509, device='cuda:0')\n",
      "tensor(0.9502, device='cuda:0')\n",
      "tensor(0.9507, device='cuda:0')\n",
      "tensor(0.9513, device='cuda:0')\n",
      "tensor(0.9501, device='cuda:0')\n",
      "tensor(0.9554, device='cuda:0')\n",
      "tensor(0.9515, device='cuda:0')\n",
      "tensor(0.9521, device='cuda:0')\n",
      "tensor(0.9507, device='cuda:0')\n",
      "tensor(0.9520, device='cuda:0')\n",
      "tensor(0.9551, device='cuda:0')\n",
      "tensor(0.9551, device='cuda:0')\n",
      "tensor(0.9522, device='cuda:0')\n",
      "tensor(0.9536, device='cuda:0')\n",
      "tensor(0.9510, device='cuda:0')\n",
      "tensor(0.9515, device='cuda:0')\n",
      "tensor(0.9542, device='cuda:0')\n",
      "tensor(0.9564, device='cuda:0')\n",
      "tensor(0.9567, device='cuda:0')\n",
      "tensor(0.9564, device='cuda:0')\n",
      "tensor(0.9521, device='cuda:0')\n",
      "tensor(0.9499, device='cuda:0')\n",
      "tensor(0.9524, device='cuda:0')\n",
      "tensor(0.9535, device='cuda:0')\n",
      "tensor(0.9548, device='cuda:0')\n",
      "tensor(0.9566, device='cuda:0')\n",
      "tensor(0.9562, device='cuda:0')\n",
      "tensor(0.9554, device='cuda:0')\n",
      "tensor(0.9553, device='cuda:0')\n",
      "tensor(0.9556, device='cuda:0')\n",
      "tensor(0.9588, device='cuda:0')\n",
      "tensor(0.9580, device='cuda:0')\n",
      "tensor(0.9573, device='cuda:0')\n",
      "tensor(0.9591, device='cuda:0')\n",
      "tensor(0.9599, device='cuda:0')\n",
      "tensor(0.9589, device='cuda:0')\n"
     ]
    }
   ],
   "source": [
    "batch_size = 100\n",
    "\n",
    "test_accuracy_history = []\n",
    "test_loss_history = []\n",
    "train_loss_history = []\n",
    "\n",
    "X_test = X_test.to(device)\n",
    "y_test = y_test.to(device)\n",
    "\n",
    "for epoch in range(100):\n",
    "    order = np.random.permutation(len(X_train))\n",
    "    \n",
    "    train_loss = 0\n",
    "    for counter, start_index in enumerate(range(0, len(X_train), batch_size)):\n",
    "        optimizer.zero_grad()\n",
    "        \n",
    "        batch_indexes = order[start_index:start_index+batch_size]\n",
    "        \n",
    "        X_batch = X_train[batch_indexes].to(device)\n",
    "        y_batch = y_train[batch_indexes].to(device)\n",
    "        \n",
    "        preds = mnist_net.forward(X_batch) \n",
    "        \n",
    "        loss_value = loss(preds, y_batch)\n",
    "        loss_value.backward()\n",
    "        \n",
    "        train_loss += loss_value.detach().cpu()\n",
    "        \n",
    "        optimizer.step()\n",
    "\n",
    "    test_preds = mnist_net.forward(X_test)\n",
    "\n",
    "    # в loss хранится весь граф вычислений функции потерь, поэтому \n",
    "    # аппендить нужно только скопированное на ЦПУ поле .data, чтоб остальное CUDA \n",
    "    # могла освободить, в противном случе как тут происходит утечка памяти (хоть и незаметная, т.к. сеть маленькая)\n",
    "    test_loss_history.append(loss(test_preds, y_test))\n",
    "    train_loss_history.append(train_loss / counter)\n",
    "    \n",
    "    # доля правильных классов\n",
    "    accuracy = (test_preds.argmax(dim=1) == y_test).float().mean()\n",
    "    test_accuracy_history.append(accuracy)\n",
    "    print(accuracy)"
   ]
  },
  {
   "cell_type": "code",
   "execution_count": 18,
   "metadata": {
    "colab": {},
    "colab_type": "code",
    "id": "kLnumX3SpS3u"
   },
   "outputs": [
    {
     "data": {
      "image/png": "[encoded data removed]",
      "text/plain": [
       "<Figure size 432x288 with 1 Axes>"
      ]
     },
     "metadata": {
      "needs_background": "light"
     },
     "output_type": "display_data"
    }
   ],
   "source": [
    "plt.plot([x.detach().cpu().tolist() for x in test_accuracy_history], label=\"Adam TEST accuracy\")\n",
    "plt.plot([x.detach().cpu().tolist() for x in test_loss_history], label=\"Adam TEST loss\")\n",
    "plt.plot([x.detach().cpu().tolist() for x in train_loss_history], ls=\"--\", label=\"Adam TRAIN loss\")\n",
    "\n",
    "plt.legend();"
   ]
  },
  {
   "cell_type": "markdown",
   "metadata": {},
   "source": [
    "Обычно (то что вы видите в эксперименте) колебания в лоссе меньше, чем колебания в accuracy, потому что accuracy -- это уже округлённые значения, а в loss учитываются вероятности, которые не так дискретны, соответственно не дают таких жёстких колебаний на графике. \n",
    "\n",
    "Есть если вы видите что у вас качество на train растёт гораздо лучше, если оно выходит на более высокие параметры в конце обучения, это значит, что вы имеете дело с явлением переобучения и ваша нейронная сеть, вместо того, чтобы выучивать какие-то новые вещи, она просто запоминает картинки. И это можно побороть с помощью \n",
    "- уменьшения параметров нейронной сети, \n",
    "- уменьшения количества слоёв и уменьшения их размера."
   ]
  },
  {
   "cell_type": "markdown",
   "metadata": {},
   "source": [
    "# Сравним Adam с SGD"
   ]
  },
  {
   "cell_type": "code",
   "execution_count": 19,
   "metadata": {
    "colab": {},
    "colab_type": "code",
    "id": "-nu1318JpS3y"
   },
   "outputs": [
    {
     "name": "stdout",
     "output_type": "stream",
     "text": [
      "tensor(0.7759, device='cuda:0')\n",
      "tensor(0.8427, device='cuda:0')\n",
      "tensor(0.8648, device='cuda:0')\n",
      "tensor(0.8765, device='cuda:0')\n",
      "tensor(0.8825, device='cuda:0')\n",
      "tensor(0.8894, device='cuda:0')\n",
      "tensor(0.8961, device='cuda:0')\n",
      "tensor(0.8974, device='cuda:0')\n",
      "tensor(0.9005, device='cuda:0')\n",
      "tensor(0.9023, device='cuda:0')\n",
      "tensor(0.9051, device='cuda:0')\n",
      "tensor(0.9068, device='cuda:0')\n",
      "tensor(0.9086, device='cuda:0')\n",
      "tensor(0.9100, device='cuda:0')\n",
      "tensor(0.9114, device='cuda:0')\n",
      "tensor(0.9139, device='cuda:0')\n",
      "tensor(0.9146, device='cuda:0')\n",
      "tensor(0.9147, device='cuda:0')\n",
      "tensor(0.9164, device='cuda:0')\n",
      "tensor(0.9163, device='cuda:0')\n",
      "tensor(0.9173, device='cuda:0')\n",
      "tensor(0.9185, device='cuda:0')\n",
      "tensor(0.9196, device='cuda:0')\n",
      "tensor(0.9200, device='cuda:0')\n",
      "tensor(0.9205, device='cuda:0')\n",
      "tensor(0.9219, device='cuda:0')\n",
      "tensor(0.9209, device='cuda:0')\n",
      "tensor(0.9223, device='cuda:0')\n",
      "tensor(0.9236, device='cuda:0')\n",
      "tensor(0.9233, device='cuda:0')\n",
      "tensor(0.9236, device='cuda:0')\n",
      "tensor(0.9253, device='cuda:0')\n",
      "tensor(0.9240, device='cuda:0')\n",
      "tensor(0.9256, device='cuda:0')\n",
      "tensor(0.9254, device='cuda:0')\n",
      "tensor(0.9270, device='cuda:0')\n",
      "tensor(0.9281, device='cuda:0')\n",
      "tensor(0.9274, device='cuda:0')\n",
      "tensor(0.9285, device='cuda:0')\n",
      "tensor(0.9281, device='cuda:0')\n",
      "tensor(0.9270, device='cuda:0')\n",
      "tensor(0.9281, device='cuda:0')\n",
      "tensor(0.9284, device='cuda:0')\n",
      "tensor(0.9293, device='cuda:0')\n",
      "tensor(0.9299, device='cuda:0')\n",
      "tensor(0.9310, device='cuda:0')\n",
      "tensor(0.9291, device='cuda:0')\n",
      "tensor(0.9309, device='cuda:0')\n",
      "tensor(0.9309, device='cuda:0')\n",
      "tensor(0.9309, device='cuda:0')\n",
      "tensor(0.9300, device='cuda:0')\n",
      "tensor(0.9307, device='cuda:0')\n",
      "tensor(0.9313, device='cuda:0')\n",
      "tensor(0.9313, device='cuda:0')\n",
      "tensor(0.9310, device='cuda:0')\n",
      "tensor(0.9315, device='cuda:0')\n",
      "tensor(0.9309, device='cuda:0')\n",
      "tensor(0.9317, device='cuda:0')\n",
      "tensor(0.9319, device='cuda:0')\n",
      "tensor(0.9313, device='cuda:0')\n",
      "tensor(0.9322, device='cuda:0')\n",
      "tensor(0.9319, device='cuda:0')\n",
      "tensor(0.9326, device='cuda:0')\n",
      "tensor(0.9328, device='cuda:0')\n",
      "tensor(0.9332, device='cuda:0')\n",
      "tensor(0.9338, device='cuda:0')\n",
      "tensor(0.9328, device='cuda:0')\n",
      "tensor(0.9326, device='cuda:0')\n",
      "tensor(0.9340, device='cuda:0')\n",
      "tensor(0.9351, device='cuda:0')\n",
      "tensor(0.9343, device='cuda:0')\n",
      "tensor(0.9349, device='cuda:0')\n",
      "tensor(0.9344, device='cuda:0')\n",
      "tensor(0.9345, device='cuda:0')\n",
      "tensor(0.9333, device='cuda:0')\n",
      "tensor(0.9337, device='cuda:0')\n",
      "tensor(0.9330, device='cuda:0')\n",
      "tensor(0.9345, device='cuda:0')\n",
      "tensor(0.9353, device='cuda:0')\n",
      "tensor(0.9341, device='cuda:0')\n",
      "tensor(0.9344, device='cuda:0')\n",
      "tensor(0.9347, device='cuda:0')\n",
      "tensor(0.9351, device='cuda:0')\n",
      "tensor(0.9347, device='cuda:0')\n",
      "tensor(0.9342, device='cuda:0')\n",
      "tensor(0.9342, device='cuda:0')\n",
      "tensor(0.9339, device='cuda:0')\n",
      "tensor(0.9346, device='cuda:0')\n",
      "tensor(0.9351, device='cuda:0')\n",
      "tensor(0.9346, device='cuda:0')\n",
      "tensor(0.9344, device='cuda:0')\n",
      "tensor(0.9351, device='cuda:0')\n",
      "tensor(0.9349, device='cuda:0')\n",
      "tensor(0.9348, device='cuda:0')\n",
      "tensor(0.9348, device='cuda:0')\n",
      "tensor(0.9357, device='cuda:0')\n",
      "tensor(0.9349, device='cuda:0')\n",
      "tensor(0.9343, device='cuda:0')\n",
      "tensor(0.9354, device='cuda:0')\n",
      "tensor(0.9350, device='cuda:0')\n"
     ]
    }
   ],
   "source": [
    "mnist_net2 = MNISTNet(100)\n",
    "mnist_net2.to(device)\n",
    "optimizer2 = torch.optim.SGD(mnist_net2.parameters(), lr=1.0e-3)\n",
    "\n",
    "test_accuracy_history2 = []\n",
    "test_loss_history2 = []\n",
    "train_loss_history2 = []\n",
    "\n",
    "for epoch in range(100):\n",
    "    order = np.random.permutation(len(X_train))\n",
    "    \n",
    "    train_loss = 0\n",
    "    for counter, start_index in enumerate(range(0, len(X_train), batch_size)):\n",
    "        optimizer2.zero_grad()\n",
    "        \n",
    "        batch_indexes = order[start_index:start_index+batch_size]\n",
    "        \n",
    "        X_batch = X_train[batch_indexes].to(device)\n",
    "        y_batch = y_train[batch_indexes].to(device)\n",
    "        \n",
    "        preds = mnist_net2.forward(X_batch) \n",
    "        \n",
    "        loss_value = loss(preds, y_batch)\n",
    "        loss_value.backward()\n",
    "\n",
    "        train_loss += loss_value.detach().cpu()\n",
    "        \n",
    "        optimizer2.step()\n",
    "\n",
    "    test_preds = mnist_net2.forward(X_test)\n",
    "    test_loss_history2.append(loss(test_preds, y_test))\n",
    "    train_loss_history2.append(train_loss / counter)\n",
    "    \n",
    "    # доля правильных классов\n",
    "    accuracy = (test_preds.argmax(dim=1) == y_test).float().mean()\n",
    "    test_accuracy_history2.append(accuracy)\n",
    "    print(accuracy)"
   ]
  },
  {
   "cell_type": "code",
   "execution_count": 20,
   "metadata": {},
   "outputs": [
    {
     "data": {
      "image/png": "[encoded data removed]",
      "text/plain": [
       "<Figure size 432x288 with 1 Axes>"
      ]
     },
     "metadata": {
      "needs_background": "light"
     },
     "output_type": "display_data"
    }
   ],
   "source": [
    "plt.plot([x.detach().cpu().tolist() for x in test_accuracy_history], label=\"Adam accuracy\")\n",
    "plt.plot([x.detach().cpu().tolist() for x in test_loss_history], label=\"Adam loss\")\n",
    "plt.plot([x.detach().cpu().tolist() for x in train_loss_history], label=\"Adam TRAIN loss\")\n",
    "\n",
    "plt.plot([x.detach().cpu().tolist() for x in test_accuracy_history2], ls=\"--\", label=\"SGD accuracy\")\n",
    "plt.plot([x.detach().cpu().tolist() for x in test_loss_history2], ls=\"--\", label=\"SGD loss\")\n",
    "plt.plot([x.detach().cpu().tolist() for x in train_loss_history2], ls=\"--\", label=\"SGD TRAIN loss\")\n",
    "\n",
    "plt.legend();"
   ]
  },
  {
   "cell_type": "markdown",
   "metadata": {},
   "source": [
    "Полносвязный слой может быть представлен как матричное умножение матрицы входов (X) и матрицы весов нейронов слоя (W), плюс вектор bias'ов слоя (b). \n",
    "\n",
    "В документации к классу `torch.nn.Linear` (полносвязному слою) написано следующее: Applies a linear transformation to the incoming data: $y = xA^T + b$. \n",
    "$А$ здесь – это то, как `PyTorch` хранит веса слоя. Но чтобы эта матрица совпала с W из предыдущего урока, нужно её сперва транспонировать.\n",
    "\n",
    "Давайте реализуем функциональность `torch.nn.Linear` и сверим с оригиналом"
   ]
  },
  {
   "cell_type": "code",
   "execution_count": 28,
   "metadata": {},
   "outputs": [
    {
     "data": {
      "text/plain": [
       "(tensor([[381., 682., 983.]], grad_fn=<AddmmBackward0>),\n",
       " tensor([[381., 682., 983.]]))"
      ]
     },
     "execution_count": 28,
     "metadata": {},
     "output_type": "execute_result"
    }
   ],
   "source": [
    "# Сперва создадим тензор x:\n",
    "x = torch.tensor([[10., 20.]])\n",
    "\n",
    "# Оригинальный полносвязный слой с 2-мя входами и 3-мя нейронами (выходами):\n",
    "fc = torch.nn.Linear(2, 3)\n",
    "\n",
    "# Веса fc-слоя хранятся в fc.weight, а bias'ы соответственно в fc.bias\n",
    "# fc.weight и fc.bias по умолчанию инициализируются случайными числами\n",
    "\n",
    "# Давайте проставим свои значения в веса и bias'ы:\n",
    "w = torch.tensor([[11., 12.], [21., 22.], [31., 32]])\n",
    "fc.weight.data = w\n",
    "\n",
    "b = torch.tensor([[31., 32., 33.]])\n",
    "fc.bias.data = b\n",
    "\n",
    "# Получим выход fc-слоя:\n",
    "fc_out = fc(x)\n",
    "\n",
    "# Попробуем теперь получить аналогичные выходы с помощью матричного перемножения:\n",
    "fc_out_alternative =  x @ w.T + b # torch.mm(x, torch.t(w)) + b\n",
    "\n",
    "fc_out, fc_out_alternative"
   ]
  },
  {
   "cell_type": "markdown",
   "metadata": {},
   "source": [
    "Проверим, что по ней правильно считается градиент. \n",
    "\n",
    "Функцию `backward()` в `PyTorch` можно посчитать только от скалярной функции (выход из такой функции – одно число). Это логично, так как loss-функция выдает всегда одно число. Но fc-слой, который мы проэмулировали, имел 3 выхода. Предлагаем их просуммировать, чтобы получить в итоге скалярную функцию. Заметим, впрочем, что можно было бы выбрать любую агрегирующую операцию, например умножение."
   ]
  },
  {
   "cell_type": "code",
   "execution_count": 31,
   "metadata": {},
   "outputs": [
    {
     "name": "stdout",
     "output_type": "stream",
     "text": [
      "fc_weight_grad: tensor([[10., 20.],\n",
      "        [10., 20.],\n",
      "        [10., 20.]])\n",
      "our_weight_grad: tensor([[10., 20.],\n",
      "        [10., 20.],\n",
      "        [10., 20.]])\n",
      "fc_bias_grad: tensor([[1., 1., 1.]])\n",
      "out_bias_grad: tensor([[1., 1., 1.]])\n"
     ]
    }
   ],
   "source": [
    "# Сперва создадим тензор x:\n",
    "x = torch.tensor([[10., 20.]])\n",
    "\n",
    "# Оригинальный полносвязный слой с 2-мя входами и 3-мя нейронами (выходами):\n",
    "fc = torch.nn.Linear(2, 3)\n",
    "\n",
    "# Веса fc-слоя хранятся в fc.weight, а bias'ы соответственно в fc.bias\n",
    "# fc.weight и fc.bias по умолчанию инициализируются случайными числами\n",
    "\n",
    "# Давайте проставим свои значения в веса и bias'ы:\n",
    "w = torch.tensor([[11., 12.], [21., 22.], [31., 32]])\n",
    "fc.weight.data = w\n",
    "\n",
    "b = torch.tensor([[31., 32., 33.]])\n",
    "fc.bias.data = b\n",
    "\n",
    "# Получим выход fc-слоя:\n",
    "fc_out = fc(x)\n",
    "# Просуммируем выход fc-слоя, чтобы получить скаляр:\n",
    "fc_out_summed = fc_out.sum()\n",
    "\n",
    "# Посчитаем градиенты формулы fc_out_summed:\n",
    "fc_out_summed.backward()\n",
    "weight_grad = fc.weight.grad\n",
    "bias_grad = fc.bias.grad\n",
    "\n",
    "# Ok, теперь воспроизведем вычисления выше но без fc-слоя:\n",
    "# Проставим, что у \"w\" и \"b\" нужно вычислять градиенты (для fc-слоя это произошло автоматически):\n",
    "w.requires_grad_(True)\n",
    "b.requires_grad_(True)\n",
    "\n",
    "# Получим выход нашей формулы:\n",
    "our_formula = torch.sum(x @ w.T + b) # SUM{x * w^T + b}\n",
    "\n",
    "# Сделайте backward для нашей формулы:\n",
    "our_formula.backward()\n",
    "\n",
    "# Проверка осуществляется автоматически, вызовом функций:\n",
    "print('fc_weight_grad:', weight_grad)\n",
    "print('our_weight_grad:', w.grad)\n",
    "print('fc_bias_grad:', bias_grad)\n",
    "print('out_bias_grad:', b.grad)"
   ]
  }
 ],
 "metadata": {
  "accelerator": "GPU",
  "colab": {
   "collapsed_sections": [],
   "name": "Lesson 5 Digits Recognition Video.ipynb",
   "provenance": [],
   "version": "0.3.2"
  },
  "kernelspec": {
   "display_name": "Python 3",
   "language": "python",
   "name": "python3"
  },
  "language_info": {
   "codemirror_mode": {
    "name": "ipython",
    "version": 3
   },
   "file_extension": ".py",
   "mimetype": "text/x-python",
   "name": "python",
   "nbconvert_exporter": "python",
   "pygments_lexer": "ipython3",
   "version": "3.10.5"
  }
 },
 "nbformat": 4,
 "nbformat_minor": 1
}
